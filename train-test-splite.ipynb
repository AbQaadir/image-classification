{
 "cells": [
  {
   "cell_type": "code",
   "execution_count": 29,
   "metadata": {},
   "outputs": [],
   "source": [
    "import os\n",
    "import numpy as np\n",
    "import matplotlib.pyplot as plt\n",
    "import pandas as pd\n",
    "import shutil"
   ]
  },
  {
   "cell_type": "code",
   "execution_count": 30,
   "metadata": {},
   "outputs": [],
   "source": [
    "from sklearn.model_selection import train_test_split"
   ]
  },
  {
   "cell_type": "code",
   "execution_count": 31,
   "metadata": {},
   "outputs": [
    {
     "data": {
      "text/plain": [
       "'data/PetImages'"
      ]
     },
     "execution_count": 31,
     "metadata": {},
     "output_type": "execute_result"
    }
   ],
   "source": [
    "image_path = \"data/PetImages\"\n",
    "image_path"
   ]
  },
  {
   "cell_type": "code",
   "execution_count": 32,
   "metadata": {},
   "outputs": [
    {
     "name": "stdout",
     "output_type": "stream",
     "text": [
      "Cat: 12491\n",
      "Dog: 12470\n",
      "train: 2\n",
      "validation: 2\n"
     ]
    }
   ],
   "source": [
    "# Check the number of images in each category\n",
    "for category in os.listdir(image_path):\n",
    "    print(f\"{category}: {len(os.listdir(os.path.join(image_path, category)))}\")"
   ]
  },
  {
   "cell_type": "code",
   "execution_count": 33,
   "metadata": {},
   "outputs": [],
   "source": [
    "# Specify the base directory and categories\n",
    "base_dir = \"data/PetImages\"\n",
    "categories = [\"Dog\", \"Cat\"]"
   ]
  },
  {
   "cell_type": "code",
   "execution_count": 34,
   "metadata": {},
   "outputs": [],
   "source": [
    "# Define paths for train and validation directories\n",
    "train_dir = os.path.join(base_dir, \"train\")\n",
    "validation_dir = os.path.join(base_dir, \"validation\")\n",
    "\n",
    "# Create the train and validation directories if they don't exist\n",
    "os.makedirs(train_dir, exist_ok=True)\n",
    "os.makedirs(validation_dir, exist_ok=True)\n",
    "\n",
    "# Create subdirectories for each category in train and validation directories\n",
    "for category in categories:\n",
    "    os.makedirs(os.path.join(train_dir, category), exist_ok=True)\n",
    "    os.makedirs(os.path.join(validation_dir, category), exist_ok=True)"
   ]
  },
  {
   "cell_type": "code",
   "execution_count": 35,
   "metadata": {},
   "outputs": [],
   "source": [
    "# splite the data into train and validation\n",
    "\n",
    "def splite_data(base_dir, train_dir, validation_dir, category, test_size=0.2):\n",
    "    category_path = os.path.join(base_dir, category)\n",
    "    images = os.listdir(category_path)\n",
    "    \n",
    "    train_filenames, validation_filenames = train_test_split(images, test_size=test_size)\n",
    "    \n",
    "    for filename in train_filenames:\n",
    "        source = os.path.join(category_path, filename)\n",
    "        destination = os.path.join(train_dir, category, filename)\n",
    "        shutil.copy(source, destination)\n",
    "        \n",
    "    for filename in validation_filenames:\n",
    "        source = os.path.join(category_path, filename)\n",
    "        destination = os.path.join(validation_dir, category, filename)\n",
    "        shutil.copy(source, destination)"
   ]
  },
  {
   "cell_type": "code",
   "execution_count": 36,
   "metadata": {},
   "outputs": [],
   "source": [
    "# Split the data into train and validation\n",
    "for category in categories:\n",
    "    splite_data(base_dir, train_dir, validation_dir, category, test_size=0.2)"
   ]
  },
  {
   "cell_type": "code",
   "execution_count": 37,
   "metadata": {},
   "outputs": [
    {
     "name": "stdout",
     "output_type": "stream",
     "text": [
      "Dog:\n",
      "Train: 12446\n",
      "Validation: 7367\n",
      "Cat:\n",
      "Train: 12468\n",
      "Validation: 7326\n"
     ]
    }
   ],
   "source": [
    "# Check the number of images in each category\n",
    "for category in categories:\n",
    "    print(f\"{category}:\")\n",
    "    print(f\"Train: {len(os.listdir(os.path.join(train_dir, category)))}\")\n",
    "    print(f\"Validation: {len(os.listdir(os.path.join(validation_dir, category)))}\")"
   ]
  },
  {
   "cell_type": "code",
   "execution_count": 38,
   "metadata": {},
   "outputs": [
    {
     "data": {
      "image/png": "[encoded data removed]",
      "text/plain": [
       "<Figure size 640x480 with 1 Axes>"
      ]
     },
     "metadata": {},
     "output_type": "display_data"
    }
   ],
   "source": [
    "# bar plot of the number of images in each category\n",
    "train_count = [len(os.listdir(os.path.join(train_dir, category))) for category in categories]\n",
    "validation_count = [len(os.listdir(os.path.join(validation_dir, category))) for category in categories]\n",
    "\n",
    "fig, ax = plt.subplots()\n",
    "bar_width = 0.35\n",
    "index = np.arange(len(categories))\n",
    "\n",
    "train_bar = ax.bar(index, train_count, bar_width, label=\"Train\")\n",
    "validation_bar = ax.bar(index + bar_width, validation_count, bar_width, label=\"Validation\")\n",
    "\n",
    "ax.set_xlabel(\"Category\")\n",
    "ax.set_ylabel(\"Count\")\n",
    "\n",
    "ax.set_xticks(index + bar_width / 2)\n",
    "ax.set_xticklabels(categories)\n",
    "\n",
    "ax.legend()\n",
    "plt.show()"
   ]
  },
  {
   "cell_type": "code",
   "execution_count": null,
   "metadata": {},
   "outputs": [],
   "source": []
  }
 ],
 "metadata": {
  "kernelspec": {
   "display_name": "img",
   "language": "python",
   "name": "python3"
  },
  "language_info": {
   "codemirror_mode": {
    "name": "ipython",
    "version": 3
   },
   "file_extension": ".py",
   "mimetype": "text/x-python",
   "name": "python",
   "nbconvert_exporter": "python",
   "pygments_lexer": "ipython3",
   "version": "3.10.14"
  }
 },
 "nbformat": 4,
 "nbformat_minor": 2
}
